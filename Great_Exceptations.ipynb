{
 "cells": [
  {
   "cell_type": "markdown",
   "metadata": {},
   "source": [
    "The great_expectations init command created a great_expectations/notebooks/ folder in your project\n",
    "After installation of the Python package, each new project is started by:\n",
    "you ran great_expectations init"
   ]
  },
  {
   "cell_type": "markdown",
   "metadata": {},
   "source": [
    "# Import Great Exceptation Liberary"
   ]
  },
  {
   "cell_type": "code",
   "execution_count": 3,
   "metadata": {},
   "outputs": [
    {
     "name": "stdout",
     "output_type": "stream",
     "text": [
      "2020-06-15T11:48:32+0530 - INFO - Great Expectations logging enabled at INFO level by JupyterUX module.\n"
     ]
    }
   ],
   "source": [
    "from datetime import datetime\n",
    "import great_expectations as ge\n",
    "import great_expectations.jupyter_ux\n",
    "context = ge.data_context.DataContext()"
   ]
  },
  {
   "cell_type": "markdown",
   "metadata": {},
   "source": [
    "#For now, great_expectations sits on top of pandas and pair the expectations with pandas dataframes. So the first step is to convert a pandas dataframe into a great_expectations dataframe"
   ]
  },
  {
   "cell_type": "code",
   "execution_count": 4,
   "metadata": {},
   "outputs": [
    {
     "data": {
      "text/plain": [
       "True"
      ]
     },
     "execution_count": 4,
     "metadata": {},
     "output_type": "execute_result"
    }
   ],
   "source": [
    "import pandas as pd\n",
    "issubclass(ge.dataset.PandasDataset, pd.DataFrame)"
   ]
  },
  {
   "cell_type": "markdown",
   "metadata": {},
   "source": [
    "#Convert from pandas dataframe into Great Exceptation dataframes"
   ]
  },
  {
   "cell_type": "code",
   "execution_count": 5,
   "metadata": {},
   "outputs": [],
   "source": [
    "df = pd.read_csv('Street-Use_Permits.csv')\n",
    "df_ge = ge.dataset.PandasDataset(df)"
   ]
  },
  {
   "cell_type": "code",
   "execution_count": 6,
   "metadata": {},
   "outputs": [
    {
     "data": {
      "text/html": [
       "<div>\n",
       "<style scoped>\n",
       "    .dataframe tbody tr th:only-of-type {\n",
       "        vertical-align: middle;\n",
       "    }\n",
       "\n",
       "    .dataframe tbody tr th {\n",
       "        vertical-align: top;\n",
       "    }\n",
       "\n",
       "    .dataframe thead th {\n",
       "        text-align: right;\n",
       "    }\n",
       "</style>\n",
       "<table border=\"1\" class=\"dataframe\">\n",
       "  <thead>\n",
       "    <tr style=\"text-align: right;\">\n",
       "      <th></th>\n",
       "      <th>permit_number</th>\n",
       "      <th>streetname</th>\n",
       "      <th>Cross Street 1</th>\n",
       "      <th>Cross Street 2</th>\n",
       "      <th>Permit Type</th>\n",
       "      <th>Agent</th>\n",
       "      <th>AgentPhone</th>\n",
       "      <th>Permit Purpose</th>\n",
       "      <th>Approved Date</th>\n",
       "      <th>Status</th>\n",
       "      <th>...</th>\n",
       "      <th>permit_end_date</th>\n",
       "      <th>permit_address</th>\n",
       "      <th>24/7 Contact</th>\n",
       "      <th>Inspector</th>\n",
       "      <th>CurbRampWork</th>\n",
       "      <th>X</th>\n",
       "      <th>Y</th>\n",
       "      <th>Latitude</th>\n",
       "      <th>Longitude</th>\n",
       "      <th>Location</th>\n",
       "    </tr>\n",
       "  </thead>\n",
       "  <tbody>\n",
       "    <tr>\n",
       "      <th>0</th>\n",
       "      <td>20EXC-02168</td>\n",
       "      <td>30TH ST</td>\n",
       "      <td>CHENERY ST</td>\n",
       "      <td>CHURCH ST</td>\n",
       "      <td>Excavation</td>\n",
       "      <td>J. Flores Construction Co.</td>\n",
       "      <td>(415) 337-2934</td>\n",
       "      <td>Spot Sewer Replacement Contract WW-686, WO#52....</td>\n",
       "      <td>06/03/2020</td>\n",
       "      <td>APPROVED</td>\n",
       "      <td>...</td>\n",
       "      <td>07/06/2020</td>\n",
       "      <td>291 30TH ST</td>\n",
       "      <td>Oscar Delgadillo @ 510-867-0073 &amp; SF-PUC - Ins...</td>\n",
       "      <td>NaN</td>\n",
       "      <td>NaN</td>\n",
       "      <td>6.004625e+06</td>\n",
       "      <td>2.098365e+06</td>\n",
       "      <td>37.741973</td>\n",
       "      <td>-122.426615</td>\n",
       "      <td>POINT (-122.426615305587 37.7419734414694)</td>\n",
       "    </tr>\n",
       "    <tr>\n",
       "      <th>1</th>\n",
       "      <td>20SSP-00063</td>\n",
       "      <td>PIERCE ST</td>\n",
       "      <td>SACRAMENTO ST</td>\n",
       "      <td>CLAY ST</td>\n",
       "      <td>StreetSpace</td>\n",
       "      <td>Fog Horn Builders</td>\n",
       "      <td>415 254 9191</td>\n",
       "      <td>NaN</td>\n",
       "      <td>04/22/2020</td>\n",
       "      <td>ACTIVE</td>\n",
       "      <td>...</td>\n",
       "      <td>06/27/2020</td>\n",
       "      <td>2139 PIERCE ST</td>\n",
       "      <td>415 254 9191</td>\n",
       "      <td>George Shami</td>\n",
       "      <td>NaN</td>\n",
       "      <td>6.001817e+06</td>\n",
       "      <td>2.115934e+06</td>\n",
       "      <td>37.790052</td>\n",
       "      <td>-122.437585</td>\n",
       "      <td>POINT (-122.437584562675 37.7900522645769)</td>\n",
       "    </tr>\n",
       "    <tr>\n",
       "      <th>2</th>\n",
       "      <td>20SSP-00171</td>\n",
       "      <td>GREEN ST</td>\n",
       "      <td>LAGUNA ST</td>\n",
       "      <td>BUCHANAN ST</td>\n",
       "      <td>StreetSpace</td>\n",
       "      <td>LH CONSTRUCTION</td>\n",
       "      <td>415-563-5563</td>\n",
       "      <td>NaN</td>\n",
       "      <td>05/05/2020</td>\n",
       "      <td>ACTIVE</td>\n",
       "      <td>...</td>\n",
       "      <td>08/10/2020</td>\n",
       "      <td>1977 GREEN ST</td>\n",
       "      <td>415 563 5563</td>\n",
       "      <td>George Shami</td>\n",
       "      <td>NaN</td>\n",
       "      <td>6.003602e+06</td>\n",
       "      <td>2.118247e+06</td>\n",
       "      <td>37.796505</td>\n",
       "      <td>-122.431573</td>\n",
       "      <td>POINT (-122.431572713379 37.7965047175642)</td>\n",
       "    </tr>\n",
       "    <tr>\n",
       "      <th>3</th>\n",
       "      <td>20EXC-01877</td>\n",
       "      <td>BERRY ST</td>\n",
       "      <td>03RD ST</td>\n",
       "      <td>04TH ST</td>\n",
       "      <td>Excavation</td>\n",
       "      <td>San Francisco Water Department</td>\n",
       "      <td>415-550-4910</td>\n",
       "      <td>SW corner of Berry St and 3rd St - service hyd...</td>\n",
       "      <td>05/19/2020</td>\n",
       "      <td>ACTIVE</td>\n",
       "      <td>...</td>\n",
       "      <td>07/08/2020</td>\n",
       "      <td>185 BERRY ST</td>\n",
       "      <td>CDD Dispatch 415-550-4900</td>\n",
       "      <td>Alejandro DelCalvo</td>\n",
       "      <td>NaN</td>\n",
       "      <td>6.014941e+06</td>\n",
       "      <td>2.110666e+06</td>\n",
       "      <td>37.776327</td>\n",
       "      <td>-122.391808</td>\n",
       "      <td>POINT (-122.391808012892 37.7763273972011)</td>\n",
       "    </tr>\n",
       "    <tr>\n",
       "      <th>4</th>\n",
       "      <td>19TC-00561</td>\n",
       "      <td>SUTTER ST</td>\n",
       "      <td>LEAVENWORTH ST</td>\n",
       "      <td>HYDE ST</td>\n",
       "      <td>TableChair</td>\n",
       "      <td>Dolce Gelato</td>\n",
       "      <td>(510) 909-8806</td>\n",
       "      <td>Café Tables &amp; Chairs</td>\n",
       "      <td>11/12/2019</td>\n",
       "      <td>APPROVED</td>\n",
       "      <td>...</td>\n",
       "      <td>10/15/2020</td>\n",
       "      <td>916 SUTTER ST</td>\n",
       "      <td>Refer to Agent</td>\n",
       "      <td>NaN</td>\n",
       "      <td>NaN</td>\n",
       "      <td>6.008187e+06</td>\n",
       "      <td>2.115255e+06</td>\n",
       "      <td>37.788549</td>\n",
       "      <td>-122.415495</td>\n",
       "      <td>POINT (-122.415495421493 37.7885485849343)</td>\n",
       "    </tr>\n",
       "    <tr>\n",
       "      <th>5</th>\n",
       "      <td>20EXC-01963</td>\n",
       "      <td>QUESADA AVE</td>\n",
       "      <td>SELBY ST</td>\n",
       "      <td>INDUSTRIAL ST</td>\n",
       "      <td>Excavation</td>\n",
       "      <td>Pacific Gas &amp; Electric</td>\n",
       "      <td>415-695-3500</td>\n",
       "      <td>2241 Quesada</td>\n",
       "      <td>06/01/2020</td>\n",
       "      <td>APPROVED</td>\n",
       "      <td>...</td>\n",
       "      <td>07/02/2020</td>\n",
       "      <td>NaN</td>\n",
       "      <td>4156953330</td>\n",
       "      <td>NaN</td>\n",
       "      <td>NaN</td>\n",
       "      <td>6.011898e+06</td>\n",
       "      <td>2.097125e+06</td>\n",
       "      <td>37.738975</td>\n",
       "      <td>-122.401383</td>\n",
       "      <td>POINT (-122.401382848843 37.7389751456125)</td>\n",
       "    </tr>\n",
       "    <tr>\n",
       "      <th>6</th>\n",
       "      <td>20TOC-03547</td>\n",
       "      <td>KEITH ST</td>\n",
       "      <td>OAKDALE AVE</td>\n",
       "      <td>PALOU AVE</td>\n",
       "      <td>TempOccup</td>\n",
       "      <td>Pacific Gas &amp; Electric</td>\n",
       "      <td>4083156874</td>\n",
       "      <td>NaN</td>\n",
       "      <td>05/11/2020</td>\n",
       "      <td>APPROVED</td>\n",
       "      <td>...</td>\n",
       "      <td>06/12/2020</td>\n",
       "      <td>NaN</td>\n",
       "      <td>1-800-PGE-5000</td>\n",
       "      <td>NaN</td>\n",
       "      <td>NaN</td>\n",
       "      <td>6.016037e+06</td>\n",
       "      <td>2.094560e+06</td>\n",
       "      <td>37.732162</td>\n",
       "      <td>-122.386893</td>\n",
       "      <td>POINT (-122.386892609145 37.7321619170456)</td>\n",
       "    </tr>\n",
       "    <tr>\n",
       "      <th>7</th>\n",
       "      <td>20TOC-03548</td>\n",
       "      <td>PALOU AVE</td>\n",
       "      <td>JENNINGS ST</td>\n",
       "      <td>KEITH ST</td>\n",
       "      <td>TempOccup</td>\n",
       "      <td>Pacific Gas &amp; Electric</td>\n",
       "      <td>4083156874</td>\n",
       "      <td>NaN</td>\n",
       "      <td>05/11/2020</td>\n",
       "      <td>APPROVED</td>\n",
       "      <td>...</td>\n",
       "      <td>06/12/2020</td>\n",
       "      <td>NaN</td>\n",
       "      <td>1-800-PGE-5000</td>\n",
       "      <td>NaN</td>\n",
       "      <td>NaN</td>\n",
       "      <td>6.016223e+06</td>\n",
       "      <td>2.094251e+06</td>\n",
       "      <td>37.731324</td>\n",
       "      <td>-122.386227</td>\n",
       "      <td>POINT (-122.386226747211 37.7313241324187)</td>\n",
       "    </tr>\n",
       "    <tr>\n",
       "      <th>8</th>\n",
       "      <td>19TC-00512</td>\n",
       "      <td>FILLMORE ST</td>\n",
       "      <td>CALIFORNIA ST</td>\n",
       "      <td>SACRAMENTO ST</td>\n",
       "      <td>TableChair</td>\n",
       "      <td>Peet's Coffee, Inc.</td>\n",
       "      <td>(845) 356-8390, X321</td>\n",
       "      <td>Sacramento St: 247.5 SF (4 tables &amp; 16 chairs)...</td>\n",
       "      <td>09/16/2019</td>\n",
       "      <td>APPROVED</td>\n",
       "      <td>...</td>\n",
       "      <td>09/15/2020</td>\n",
       "      <td>2197 FILLMORE ST</td>\n",
       "      <td>Refer to Agent</td>\n",
       "      <td>Nick Haase</td>\n",
       "      <td>NaN</td>\n",
       "      <td>6.002830e+06</td>\n",
       "      <td>2.115815e+06</td>\n",
       "      <td>37.789785</td>\n",
       "      <td>-122.434069</td>\n",
       "      <td>POINT (-122.43406912948 37.7897846819342)</td>\n",
       "    </tr>\n",
       "    <tr>\n",
       "      <th>9</th>\n",
       "      <td>20SSP-00067</td>\n",
       "      <td>BROADWAY</td>\n",
       "      <td>DIVISADERO ST</td>\n",
       "      <td>BRODERICK ST</td>\n",
       "      <td>StreetSpace</td>\n",
       "      <td>Clayton Timbrell &amp; Co</td>\n",
       "      <td>415-660-5604</td>\n",
       "      <td>NaN</td>\n",
       "      <td>04/24/2020</td>\n",
       "      <td>ACTIVE</td>\n",
       "      <td>...</td>\n",
       "      <td>10/27/2020</td>\n",
       "      <td>2714 BROADWAY</td>\n",
       "      <td>415 660 5604</td>\n",
       "      <td>George Shami</td>\n",
       "      <td>NaN</td>\n",
       "      <td>6.000623e+06</td>\n",
       "      <td>2.117198e+06</td>\n",
       "      <td>37.793456</td>\n",
       "      <td>-122.441806</td>\n",
       "      <td>POINT (-122.441806063705 37.7934559290517)</td>\n",
       "    </tr>\n",
       "  </tbody>\n",
       "</table>\n",
       "<p>10 rows × 23 columns</p>\n",
       "</div>"
      ],
      "text/plain": [
       "  permit_number   streetname  Cross Street 1 Cross Street 2  Permit Type  \\\n",
       "0   20EXC-02168      30TH ST      CHENERY ST      CHURCH ST   Excavation   \n",
       "1   20SSP-00063    PIERCE ST   SACRAMENTO ST        CLAY ST  StreetSpace   \n",
       "2   20SSP-00171     GREEN ST       LAGUNA ST    BUCHANAN ST  StreetSpace   \n",
       "3   20EXC-01877     BERRY ST         03RD ST        04TH ST   Excavation   \n",
       "4    19TC-00561    SUTTER ST  LEAVENWORTH ST        HYDE ST   TableChair   \n",
       "5   20EXC-01963  QUESADA AVE        SELBY ST  INDUSTRIAL ST   Excavation   \n",
       "6   20TOC-03547     KEITH ST     OAKDALE AVE      PALOU AVE    TempOccup   \n",
       "7   20TOC-03548    PALOU AVE     JENNINGS ST       KEITH ST    TempOccup   \n",
       "8    19TC-00512  FILLMORE ST   CALIFORNIA ST  SACRAMENTO ST   TableChair   \n",
       "9   20SSP-00067     BROADWAY   DIVISADERO ST   BRODERICK ST  StreetSpace   \n",
       "\n",
       "                            Agent            AgentPhone  \\\n",
       "0      J. Flores Construction Co.        (415) 337-2934   \n",
       "1               Fog Horn Builders          415 254 9191   \n",
       "2                 LH CONSTRUCTION          415-563-5563   \n",
       "3  San Francisco Water Department          415-550-4910   \n",
       "4                    Dolce Gelato        (510) 909-8806   \n",
       "5          Pacific Gas & Electric          415-695-3500   \n",
       "6          Pacific Gas & Electric            4083156874   \n",
       "7          Pacific Gas & Electric            4083156874   \n",
       "8             Peet's Coffee, Inc.  (845) 356-8390, X321   \n",
       "9           Clayton Timbrell & Co          415-660-5604   \n",
       "\n",
       "                                      Permit Purpose Approved Date    Status  \\\n",
       "0  Spot Sewer Replacement Contract WW-686, WO#52....    06/03/2020  APPROVED   \n",
       "1                                                NaN    04/22/2020    ACTIVE   \n",
       "2                                                NaN    05/05/2020    ACTIVE   \n",
       "3  SW corner of Berry St and 3rd St - service hyd...    05/19/2020    ACTIVE   \n",
       "4                               Café Tables & Chairs    11/12/2019  APPROVED   \n",
       "5                                       2241 Quesada    06/01/2020  APPROVED   \n",
       "6                                                NaN    05/11/2020  APPROVED   \n",
       "7                                                NaN    05/11/2020  APPROVED   \n",
       "8  Sacramento St: 247.5 SF (4 tables & 16 chairs)...    09/16/2019  APPROVED   \n",
       "9                                                NaN    04/24/2020    ACTIVE   \n",
       "\n",
       "   ...  permit_end_date    permit_address  \\\n",
       "0  ...       07/06/2020       291 30TH ST   \n",
       "1  ...       06/27/2020    2139 PIERCE ST   \n",
       "2  ...       08/10/2020     1977 GREEN ST   \n",
       "3  ...       07/08/2020      185 BERRY ST   \n",
       "4  ...       10/15/2020     916 SUTTER ST   \n",
       "5  ...       07/02/2020               NaN   \n",
       "6  ...       06/12/2020               NaN   \n",
       "7  ...       06/12/2020               NaN   \n",
       "8  ...       09/15/2020  2197 FILLMORE ST   \n",
       "9  ...       10/27/2020     2714 BROADWAY   \n",
       "\n",
       "                                        24/7 Contact           Inspector  \\\n",
       "0  Oscar Delgadillo @ 510-867-0073 & SF-PUC - Ins...                 NaN   \n",
       "1                                       415 254 9191        George Shami   \n",
       "2                                       415 563 5563        George Shami   \n",
       "3                          CDD Dispatch 415-550-4900  Alejandro DelCalvo   \n",
       "4                                     Refer to Agent                 NaN   \n",
       "5                                         4156953330                 NaN   \n",
       "6                                     1-800-PGE-5000                 NaN   \n",
       "7                                     1-800-PGE-5000                 NaN   \n",
       "8                                     Refer to Agent          Nick Haase   \n",
       "9                                       415 660 5604        George Shami   \n",
       "\n",
       "  CurbRampWork             X             Y   Latitude   Longitude  \\\n",
       "0          NaN  6.004625e+06  2.098365e+06  37.741973 -122.426615   \n",
       "1          NaN  6.001817e+06  2.115934e+06  37.790052 -122.437585   \n",
       "2          NaN  6.003602e+06  2.118247e+06  37.796505 -122.431573   \n",
       "3          NaN  6.014941e+06  2.110666e+06  37.776327 -122.391808   \n",
       "4          NaN  6.008187e+06  2.115255e+06  37.788549 -122.415495   \n",
       "5          NaN  6.011898e+06  2.097125e+06  37.738975 -122.401383   \n",
       "6          NaN  6.016037e+06  2.094560e+06  37.732162 -122.386893   \n",
       "7          NaN  6.016223e+06  2.094251e+06  37.731324 -122.386227   \n",
       "8          NaN  6.002830e+06  2.115815e+06  37.789785 -122.434069   \n",
       "9          NaN  6.000623e+06  2.117198e+06  37.793456 -122.441806   \n",
       "\n",
       "                                     Location  \n",
       "0  POINT (-122.426615305587 37.7419734414694)  \n",
       "1  POINT (-122.437584562675 37.7900522645769)  \n",
       "2  POINT (-122.431572713379 37.7965047175642)  \n",
       "3  POINT (-122.391808012892 37.7763273972011)  \n",
       "4  POINT (-122.415495421493 37.7885485849343)  \n",
       "5  POINT (-122.401382848843 37.7389751456125)  \n",
       "6  POINT (-122.386892609145 37.7321619170456)  \n",
       "7  POINT (-122.386226747211 37.7313241324187)  \n",
       "8   POINT (-122.43406912948 37.7897846819342)  \n",
       "9  POINT (-122.441806063705 37.7934559290517)  \n",
       "\n",
       "[10 rows x 23 columns]"
      ]
     },
     "execution_count": 6,
     "metadata": {},
     "output_type": "execute_result"
    }
   ],
   "source": [
    "df.head(10)"
   ]
  },
  {
   "cell_type": "markdown",
   "metadata": {},
   "source": [
    "# Check Null values in \"Agent Colums\""
   ]
  },
  {
   "cell_type": "code",
   "execution_count": 8,
   "metadata": {},
   "outputs": [
    {
     "data": {
      "text/plain": [
       "{'success': False,\n",
       " 'result': {'element_count': 7849,\n",
       "  'missing_count': 0,\n",
       "  'missing_percent': 0.0,\n",
       "  'unexpected_count': 7841,\n",
       "  'unexpected_percent': 0.9989807618804943,\n",
       "  'partial_unexpected_list': []}}"
      ]
     },
     "execution_count": 8,
     "metadata": {},
     "output_type": "execute_result"
    }
   ],
   "source": [
    "df_ge.expect_column_values_to_be_null('Agent')"
   ]
  },
  {
   "cell_type": "markdown",
   "metadata": {},
   "source": [
    "# To check the values in the status columns and the values is also provided"
   ]
  },
  {
   "cell_type": "code",
   "execution_count": 11,
   "metadata": {},
   "outputs": [
    {
     "data": {
      "text/plain": [
       "{'success': True,\n",
       " 'result': {'element_count': 7849,\n",
       "  'missing_count': 0,\n",
       "  'missing_percent': 0.0,\n",
       "  'unexpected_count': 0,\n",
       "  'unexpected_percent': 0.0,\n",
       "  'unexpected_percent_nonmissing': 0.0,\n",
       "  'partial_unexpected_list': []}}"
      ]
     },
     "execution_count": 11,
     "metadata": {},
     "output_type": "execute_result"
    }
   ],
   "source": [
    "df_ge.expect_column_values_to_be_in_set('Status',['ACTIVE','APPROVED'])"
   ]
  },
  {
   "cell_type": "markdown",
   "metadata": {},
   "source": [
    "# To check the values between"
   ]
  },
  {
   "cell_type": "code",
   "execution_count": 12,
   "metadata": {},
   "outputs": [
    {
     "data": {
      "text/plain": [
       "{'success': False,\n",
       " 'result': {'element_count': 7849,\n",
       "  'missing_count': 0,\n",
       "  'missing_percent': 0.0,\n",
       "  'unexpected_count': 5493,\n",
       "  'unexpected_percent': 0.6998343738055803,\n",
       "  'unexpected_percent_nonmissing': 0.6998343738055803,\n",
       "  'partial_unexpected_list': [10436000,\n",
       "   6472000,\n",
       "   12327000,\n",
       "   10824000,\n",
       "   7782000,\n",
       "   10220000,\n",
       "   5553000,\n",
       "   6460000,\n",
       "   8888000,\n",
       "   10287000,\n",
       "   5066000,\n",
       "   10124000,\n",
       "   12847000,\n",
       "   7522000,\n",
       "   12846000,\n",
       "   34165000,\n",
       "   7780000,\n",
       "   11377000,\n",
       "   23796000,\n",
       "   9100000]}}"
      ]
     },
     "execution_count": 12,
     "metadata": {},
     "output_type": "execute_result"
    }
   ],
   "source": [
    "df_ge.expect_column_values_to_be_between('cnn',100000, 5000000)"
   ]
  },
  {
   "cell_type": "code",
   "execution_count": 16,
   "metadata": {},
   "outputs": [
    {
     "name": "stdout",
     "output_type": "stream",
     "text": [
      "2020-06-15T12:00:49+0530 - INFO - \t1 expectation(s) included in expectation_suite. Omitting 2 expectation(s) that failed when last run; set discard_failed_expectations=False to include them. result_format settings filtered.\n"
     ]
    },
    {
     "data": {
      "text/plain": [
       "{'data_asset_name': None,\n",
       " 'expectation_suite_name': 'default',\n",
       " 'meta': {'great_expectations.__version__': '0.7.11'},\n",
       " 'expectations': [{'expectation_type': 'expect_column_values_to_be_in_set',\n",
       "   'kwargs': {'column': 'Status', 'value_set': ['ACTIVE', 'APPROVED']}}],\n",
       " 'data_asset_type': 'Dataset'}"
      ]
     },
     "execution_count": 16,
     "metadata": {},
     "output_type": "execute_result"
    }
   ],
   "source": [
    "df_ge.get_expectations_config()"
   ]
  },
  {
   "cell_type": "markdown",
   "metadata": {},
   "source": [
    "# Write rules in expectations config"
   ]
  },
  {
   "cell_type": "code",
   "execution_count": 13,
   "metadata": {},
   "outputs": [
    {
     "name": "stdout",
     "output_type": "stream",
     "text": [
      "2020-06-13T11:22:35+0530 - INFO - \t1 expectation(s) included in expectation_suite. Omitting 1 expectation(s) that failed when last run; set discard_failed_expectations=False to include them. result_format settings filtered.\n"
     ]
    },
    {
     "data": {
      "text/plain": [
       "{'data_asset_name': None,\n",
       " 'expectation_suite_name': 'default',\n",
       " 'meta': {'great_expectations.__version__': '0.7.11'},\n",
       " 'expectations': [{'expectation_type': 'expect_column_values_to_be_in_set',\n",
       "   'kwargs': {'column': 'Permit Type',\n",
       "    'value_set': ['Excavation', 'Wireless']}}],\n",
       " 'data_asset_type': 'Dataset'}"
      ]
     },
     "execution_count": 13,
     "metadata": {},
     "output_type": "execute_result"
    }
   ],
   "source": [
    "success_type = ['Excavation', 'Wireless']\n",
    "df_ge.expect_column_values_to_be_in_set('Permit Type', success_type)\n",
    "df_ge.get_expectations_config()"
   ]
  },
  {
   "cell_type": "markdown",
   "metadata": {},
   "source": [
    "Glossary of Expectations\n",
    "Table shape\n",
    "    expect_column_to_exist\n",
    "    expect_table_columns_to_match_ordered_list\n",
    "    expect_table_row_count_to_be_between\n",
    "    expect_table_row_count_to_equal\n",
    "Missing values, unique values, and types\n",
    "    expect_column_values_to_be_unique\n",
    "    expect_column_values_to_not_be_null\n",
    "    expect_column_values_to_be_null\n",
    "    expect_column_values_to_be_of_type\n",
    "    expect_column_values_to_be_in_type_list\n",
    "Sets and ranges\n",
    "    expect_column_values_to_be_in_set\n",
    "    expect_column_values_to_not_be_in_set\n",
    "    expect_column_values_to_be_between\n",
    "    expect_column_values_to_be_increasing\n",
    "    expect_column_values_to_be_decreasing\n",
    "    String matching\n",
    "    expect_column_value_lengths_to_be_between\n",
    "    expect_column_value_lengths_to_equal\n",
    "    expect_column_values_to_match_regex\n",
    "    expect_column_values_to_not_match_regex\n",
    "    expect_column_values_to_match_regex_list\n",
    "    expect_column_values_to_not_match_regex_list\n",
    "Datetime and JSON parsing\n",
    "    expect_column_values_to_match_strftime_format\n",
    "    expect_column_values_to_be_dateutil_parseable\n",
    "    expect_column_values_to_be_json_parseable\n",
    "    expect_column_values_to_match_json_schema\n",
    "    Aggregate functions\n",
    "    expect_column_mean_to_be_between\n",
    "    expect_column_median_to_be_between\n",
    "    expect_column_stdev_to_be_between\n",
    "    expect_column_unique_value_count_to_be_between\n",
    "    expect_column_proportion_of_unique_values_to_be_between\n",
    "    expect_column_most_common_value_to_be_in_set\n",
    "    expect_column_max_to_be_between\n",
    "    expect_column_min_to_be_between\n",
    "    expect_column_sum_to_be_between\n",
    "    Column pairs\n",
    "    expect_column_pair_values_A_to_be_greater_than_B\n",
    "    expect_column_pair_values_to_be_equal\n",
    "    expect_column_pair_values_to_be_in_set\n",
    "    Distributional functions\n",
    "    expect_column_kl_divergence_to_be_less_than\n",
    "    expect_column_bootstrapped_ks_test_p_value_to_be_greater_than\n",
    "    expect_column_chisquare_test_p_value_to_be_greater_than\n",
    "    expect_column_parameterized_distribution_ks_test_p_value_to_be_greater_than"
   ]
  },
  {
   "cell_type": "markdown",
   "metadata": {},
   "source": [
    "#Exporting and importing expectations"
   ]
  },
  {
   "cell_type": "code",
   "execution_count": 17,
   "metadata": {},
   "outputs": [
    {
     "name": "stdout",
     "output_type": "stream",
     "text": [
      "2020-06-15T12:01:37+0530 - INFO - \t1 expectation(s) included in expectation_suite. Omitting 2 expectation(s) that failed when last run; set discard_failed_expectations=False to include them. result_format settings filtered.\n",
      "2020-06-15T12:01:37+0530 - INFO - \t1 expectation(s) included in expectation_suite. Omitting 2 expectation(s) that failed when last run; set discard_failed_expectations=False to include them. result_format settings filtered.\n"
     ]
    }
   ],
   "source": [
    "# as dictionary\n",
    "config = df_ge.get_expectations_config()\n",
    "# as json file\n",
    "df_ge.save_expectations_config('ew_config.json')"
   ]
  },
  {
   "cell_type": "markdown",
   "metadata": {},
   "source": [
    "#wipe my saved expectations"
   ]
  },
  {
   "cell_type": "code",
   "execution_count": 15,
   "metadata": {},
   "outputs": [
    {
     "ename": "ValueError",
     "evalue": "Multiple expectations matched arguments. No expectations removed.",
     "output_type": "error",
     "traceback": [
      "\u001b[1;31m---------------------------------------------------------------------------\u001b[0m",
      "\u001b[1;31mValueError\u001b[0m                                Traceback (most recent call last)",
      "\u001b[1;32m<ipython-input-15-de6fa390b14e>\u001b[0m in \u001b[0;36m<module>\u001b[1;34m\u001b[0m\n\u001b[1;32m----> 1\u001b[1;33m \u001b[0mdf_excavation_and_wireless\u001b[0m\u001b[1;33m.\u001b[0m\u001b[0mremove_expectation\u001b[0m\u001b[1;33m(\u001b[0m\u001b[1;33m)\u001b[0m\u001b[1;33m\u001b[0m\u001b[1;33m\u001b[0m\u001b[0m\n\u001b[0m",
      "\u001b[1;32m~\\anaconda3\\lib\\site-packages\\great_expectations\\data_asset\\data_asset.py\u001b[0m in \u001b[0;36mremove_expectation\u001b[1;34m(self, expectation_type, column, expectation_kwargs, remove_multiple_matches, dry_run)\u001b[0m\n\u001b[0;32m    584\u001b[0m             \u001b[1;32mif\u001b[0m \u001b[1;32mnot\u001b[0m \u001b[0mremove_multiple_matches\u001b[0m\u001b[1;33m:\u001b[0m\u001b[1;33m\u001b[0m\u001b[1;33m\u001b[0m\u001b[0m\n\u001b[0;32m    585\u001b[0m                 raise ValueError(\n\u001b[1;32m--> 586\u001b[1;33m                     'Multiple expectations matched arguments. No expectations removed.')\n\u001b[0m\u001b[0;32m    587\u001b[0m             \u001b[1;32melse\u001b[0m\u001b[1;33m:\u001b[0m\u001b[1;33m\u001b[0m\u001b[1;33m\u001b[0m\u001b[0m\n\u001b[0;32m    588\u001b[0m \u001b[1;33m\u001b[0m\u001b[0m\n",
      "\u001b[1;31mValueError\u001b[0m: Multiple expectations matched arguments. No expectations removed."
     ]
    }
   ],
   "source": [
    "df_ge.remove_expectation()"
   ]
  },
  {
   "cell_type": "markdown",
   "metadata": {},
   "source": [
    "#import and use the expectation config, load the json file as dictionary and pass it into the .validate()"
   ]
  },
  {
   "cell_type": "code",
   "execution_count": null,
   "metadata": {},
   "outputs": [],
   "source": [
    "import json\n",
    "\n",
    "with open('ew_config.json') as file:\n",
    "  validate_config = json.load(file)\n",
    "\n",
    "df_excavation_and_wireless.validate(expectations_config=ew_config.json)"
   ]
  }
 ],
 "metadata": {
  "kernelspec": {
   "display_name": "Python 3",
   "language": "python",
   "name": "python3"
  },
  "language_info": {
   "codemirror_mode": {
    "name": "ipython",
    "version": 3
   },
   "file_extension": ".py",
   "mimetype": "text/x-python",
   "name": "python",
   "nbconvert_exporter": "python",
   "pygments_lexer": "ipython3",
   "version": "3.7.6"
  }
 },
 "nbformat": 4,
 "nbformat_minor": 4
}
